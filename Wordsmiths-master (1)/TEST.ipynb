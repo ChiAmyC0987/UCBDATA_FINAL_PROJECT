{
 "cells": [
  {
   "cell_type": "code",
   "execution_count": null,
   "metadata": {},
   "outputs": [],
   "source": [
    "#import\n",
    "import matplotlib\n",
    "import matplotlib.pyplot as plt\n",
    "import pandas as pd\n",
    "import nltk\n",
    "from nltk.corpus import stopwords\n",
    "import string\n",
    "#You will have to download the set of stop words the first time\n",
    "# nltk.download('stopwords')\n",
    "# nltk.download('punkt')\n",
    "from collections import Counter"
   ]
  },
  {
   "cell_type": "code",
   "execution_count": null,
   "metadata": {},
   "outputs": [],
   "source": [
    "#define\n",
    "top_N = 200000\n",
    "stopwords = nltk.corpus.stopwords.words('english')\n",
    "#we need to rename this directory to wherever the CSV files are located\n",
    "yelp_attr = pd.read_csv('yelp_business_attributes.csv')\n",
    "yelp_rev = pd.read_csv('yelp_review.csv',nrows = 200000)\n",
    "bougie_businesses = pd.read_csv('Bougie_Businesses.csv')\n",
    "yelp_business_data = pd.read_csv('yelp_business.csv')"
   ]
  },
  {
   "cell_type": "code",
   "execution_count": null,
   "metadata": {
    "scrolled": true
   },
   "outputs": [],
   "source": [
    "yelp_business_data.tail(3)"
   ]
  },
  {
   "cell_type": "code",
   "execution_count": null,
   "metadata": {},
   "outputs": [],
   "source": [
    "#Combine Ambience and Reviews into a Dataframe\n",
    "yelp_reviewd = pd.merge(yelp_rev, yelp_attr, on='business_id')\n"
   ]
  },
  {
   "cell_type": "code",
   "execution_count": null,
   "metadata": {},
   "outputs": [],
   "source": [
    "i = 0\n",
    "for index, row in yelp_reviewd.iterrows():    \n",
    "    yelp_reviewd.loc[index, \"is_bougie\"] = row[\"stars\"] == 5\n",
    "yelp_reviewd.tail(3)\n",
    "#list(yelp_reviewd.columns.values)\n"
   ]
  },
  {
   "cell_type": "code",
   "execution_count": null,
   "metadata": {},
   "outputs": [],
   "source": [
    "#With the New Bugie Businesses\n",
    "bougie_biz = pd.merge( bougie_businesses, yelp_business_data, on='business_id', how='left')\n",
    "bougie_biz.tail(3)"
   ]
  },
  {
   "cell_type": "code",
   "execution_count": null,
   "metadata": {},
   "outputs": [],
   "source": [
    "middle = bougie_biz.loc[bougie_biz[\"Bougie_Rating\"] > 10]\n",
    "\n",
    "super_bugie = bougie_biz.loc[bougie_biz[\"Bougie_Rating\"] >= 50]\n",
    "not_bad_bugie = middle.loc[middle[\"Bougie_Rating\"] < 50]\n",
    "not_good_bugie = bougie_biz.loc[bougie_biz[\"Bougie_Rating\"] < 10]\n",
    "\n",
    "super_bugie.head()"
   ]
  },
  {
   "cell_type": "code",
   "execution_count": null,
   "metadata": {},
   "outputs": [],
   "source": [
    "# Groupby_city\n",
    "super_by_city = super_bugie.groupby([\"city\"])\n",
    "not_bad_by_city = not_bad_bugie.groupby([\"city\"])\n",
    "not_good_by_city = not_good_bugie.groupby([\"city\"])\n",
    "super_by_city.head()"
   ]
  },
  {
   "cell_type": "code",
   "execution_count": null,
   "metadata": {},
   "outputs": [],
   "source": [
    "super_city = super_by_city.city.count()\n",
    "not_bad_city = not_bad_by_city.city.count()\n",
    "not_good_city = not_good_by_city.city.count()\n",
    "\n",
    "super_by_city.head()                      "
   ]
  },
  {
   "cell_type": "code",
   "execution_count": null,
   "metadata": {},
   "outputs": [],
   "source": [
    "#Bougie raitings PER city\n",
    "super_words_per_city = super_by_city.Bougie_Rating.sum()\n",
    "not_bad_words_per_city = not_bad_by_city.Bougie_Rating.sum()\n",
    "not_good_words_per_city = not_good_by_city.Bougie_Rating.sum()\n",
    "\n",
    "super_words_per_city.head()"
   ]
  },
  {
   "cell_type": "code",
   "execution_count": null,
   "metadata": {},
   "outputs": [],
   "source": [
    "#Mean-words\n",
    "super_words_mean = super_words_per_city / super_city\n",
    "not_bad_words_mean = not_bad_words_per_city / not_bad_city\n",
    "not_good_words_mean = not_good_words_per_city / not_good_city\n",
    "\n",
    "super_words_mean.head()"
   ]
  },
  {
   "cell_type": "code",
   "execution_count": null,
   "metadata": {},
   "outputs": [],
   "source": [
    "#Bougie raitings PER city\n",
    "super_reviews_per_city = super_by_city.review_count.sum()\n",
    "not_bad_reviews_per_city = not_bad_by_city.review_count.sum()\n",
    "not_good_reviews_per_city = not_good_by_city.review_count.sum()\n",
    "\n",
    "super_reviews_per_city.head()"
   ]
  },
  {
   "cell_type": "code",
   "execution_count": null,
   "metadata": {},
   "outputs": [],
   "source": [
    "super_reviews_mean = super_reviews_per_city / super_city\n",
    "not_bad_reviews_mean = not_bad_reviews_per_city / not_bad_city\n",
    "not_good_reviews_mean = not_good_reviews_per_city / not_good_city\n",
    "\n",
    "super_reviews_mean.head()"
   ]
  },
  {
   "cell_type": "code",
   "execution_count": null,
   "metadata": {},
   "outputs": [],
   "source": [
    "bougie_biz = bougie_biz.set_index([\"city\"])\n",
    "bougie_biz_index = bougie_biz.sort_index()\n",
    "\n",
    "bougie_biz_index.head()"
   ]
  },
  {
   "cell_type": "code",
   "execution_count": null,
   "metadata": {},
   "outputs": [],
   "source": [
    "#Bobbles 1\n",
    "df_city_middle = bougie_biz_index.loc[bougie_biz_index[\"Bougie_Rating\"] > 10]\n",
    "\n",
    "df_city_super = bougie_biz_index.loc[bougie_biz_index[\"Bougie_Rating\"] >= 50]\n",
    "df_city_not_bad = df_city_middle.loc[df_city_middle[\"Bougie_Rating\"] < 50]\n",
    "df_city_not_good = bougie_biz_index.loc[bougie_biz_index[\"Bougie_Rating\"] < 10]\n",
    "\n",
    "df_city_super.head()"
   ]
  },
  {
   "cell_type": "code",
   "execution_count": null,
   "metadata": {},
   "outputs": [],
   "source": [
    "#bubbles\n",
    "super_bubbles = df_city_super[\"review_count\"] * 5\n",
    "not_bad_bubbles = df_city_not_bad[\"review_count\"] * 5\n",
    "not_good_bubbles = df_city_not_good[\"review_count\"] * 5"
   ]
  },
  {
   "cell_type": "code",
   "execution_count": null,
   "metadata": {},
   "outputs": [],
   "source": [
    "#Graph\n",
    "super_graph = plt.scatter(super_city, super_reviews_mean, marker=\"o\", c='gold', edgecolors=\"black\", s=super_bubbles, alpha=0.75, label=\"super bugie by review\")\n",
    "not_bad_graph = plt.scatter(not_bad_city, not_bad_reviews_mean, marker=\"o\", c='lightskyblue', edgecolors=\"black\", s=not_bad_bubbles, alpha=0.75, label=\"Not Bad Bugie By review\")\n",
    "not_good_graph = plt.scatter(not_good_city, not_good_reviews_mean, marker=\"o\", c='lightcoral', edgecolors=\"black\", s=not_good_bubbles, alpha=0.75, label=\"Not Good Bugie By review\")\n",
    "\n",
    "plt.ylim(-3050, 6050)\n",
    "plt.xlim(-50, 200)\n",
    "plt.grid(axis='both', alpha=0.5)\n",
    "plt.xlabel(\"This is the Average bougie score\")\n",
    "plt.ylabel(\"Reviews by City:\")\n",
    "plt.title(\"Number of bougie reviews by city\")\n",
    "plt.text(x=22, y=40, s='Note:\\nNumber of reviews per city by category.')"
   ]
  },
  {
   "cell_type": "code",
   "execution_count": null,
   "metadata": {},
   "outputs": [],
   "source": [
    "super_graph = plt.scatter(super_city, super_words_mean, marker=\"o\", c='gold', edgecolors=\"black\", s=super_bubbles, alpha=0.75, label=\"super bugie by review\")\n",
    "not_bad_graph = plt.scatter(not_bad_city, not_bad_words_mean, marker=\"o\", c='lightskyblue', edgecolors=\"black\", s=not_bad_bubbles, alpha=0.75, label=\"Not Bad Bugie By review\")\n",
    "not_good_graph = plt.scatter(not_good_city, not_good_words_mean, marker=\"o\", c='lightcoral', edgecolors=\"black\", s=not_good_bubbles, alpha=0.75, label=\"Not Good Bugie By review\")\n",
    "\n",
    "plt.ylim(-100, 220)\n",
    "plt.xlim(-50, 150)\n",
    "plt.grid(axis='both', alpha=0.5)\n",
    "plt.xlabel(\"This is the Average bougie score\")\n",
    "plt.ylabel(\"Words by City:\")\n",
    "plt.title(\"Number of bougie words by city\")\n",
    "plt.text(x=60, y=170, s='Note:\\nNumber of bougie words per city.')"
   ]
  },
  {
   "cell_type": "code",
   "execution_count": null,
   "metadata": {},
   "outputs": [],
   "source": [
    "#Filter all restaurants by is_bougie true\n",
    "is_bougie = yelp_reviewd[yelp_reviewd[\"is_bougie\"] == True]\n",
    "text_data_seriesb = is_bougie[\"text\"]\n",
    "text_data_seriesb.head(10)\n"
   ]
  },
  {
   "cell_type": "code",
   "execution_count": null,
   "metadata": {},
   "outputs": [],
   "source": [
    "RE_stopwords = r'\\b(?:{})\\b'.format('|'.join(stopwords))\n",
    "# replace '|'-->' ' and drop all stopwords\n",
    "wordsb = (text_data_seriesb\n",
    "           .str.lower()\n",
    "           .replace([r'\\(','\\)','\\|','\\,','\\.','\\?','\\!','\\_','\\-','\\:','\\\"','\\*',\"\\'\", RE_stopwords], ['','','','','','','',' ','','','','','', ''], regex=True)\n",
    "           .str.cat(sep=' ')\n",
    "           .split()\n",
    ")\n",
    "\n",
    "# generate DF out of Counter\n",
    "rsltb = pd.DataFrame(Counter(wordsb).most_common(top_N),\n",
    "                    columns=['Word', 'Frequency']).set_index('Word')\n",
    "print(rsltb)\n",
    "\n",
    "# plot\n",
    "#rslt.plot.bar(rot=0, figsize=(16,10), width=0.8)"
   ]
  },
  {
   "cell_type": "code",
   "execution_count": null,
   "metadata": {},
   "outputs": [],
   "source": [
    "#Repeat steps 5-8 with non-matching restaurants\n",
    "#Filter all restaurants by is_bougie true\n",
    "is_not_bougie = yelp_reviewd[yelp_reviewd[\"is_bougie\"] == False]\n",
    "text_data_seriesp = is_not_bougie[\"text\"]\n",
    "text_data_seriesp.head(10)"
   ]
  },
  {
   "cell_type": "code",
   "execution_count": null,
   "metadata": {},
   "outputs": [],
   "source": [
    "RE_stopwords = r'\\b(?:{})\\b'.format('|'.join(stopwords))\n",
    "# replace '|'-->' ' and drop all stopwords\n",
    "wordsp = (text_data_seriesp\n",
    "           .str.lower()\n",
    "           .replace([r'\\(','\\)','\\|','\\,','\\.','\\?','\\!','\\_','\\-','\\:','\\\"','\\*',\"\\'\", RE_stopwords], ['','','','','','','',' ','','','','','', ''], regex=True)\n",
    "           .str.cat(sep=' ')\n",
    "           .split()\n",
    ")\n",
    "\n",
    "# generate DF out of Counter\n",
    "rsltp = pd.DataFrame(Counter(wordsp).most_common(top_N),\n",
    "                    columns=['Word', 'Frequency']).set_index('Word')\n",
    "print(rsltp)\n",
    "\n",
    "#plot\n",
    "#rslt.plot.bar(rot=0, figsize=(16,10), width=0.8)"
   ]
  },
  {
   "cell_type": "code",
   "execution_count": null,
   "metadata": {},
   "outputs": [],
   "source": [
    "odd_word = list({s for s in wordsb if s not in wordsp})\n",
    "print(odd_word)\n"
   ]
  },
  {
   "cell_type": "code",
   "execution_count": null,
   "metadata": {},
   "outputs": [],
   "source": [
    "odd_wordres = pd.DataFrame(Counter(odd_word).most_common(top_N),\n",
    "                    columns=['Word', 'Frequency']).set_index('Word')\n",
    "print(odd_wordres)\n"
   ]
  },
  {
   "cell_type": "code",
   "execution_count": null,
   "metadata": {},
   "outputs": [],
   "source": [
    "\n",
    "# initilize by 0\n",
    "# dictionary - business_id + counter\n",
    "# increase counter for coorisponding business_id if you find a bougie word\n",
    "# sort dictionary by values\n",
    "# match review ID and resturant\n",
    "business_id_to_counter = {}\n",
    "for index, row in yelp_reviewd.iterrows():\n",
    "    for word, word_row in odd_wordres.iterrows():\n",
    "        if word in row[\"text\"]:\n",
    "            business_id = row[\"business_id\"]\n",
    "            # is the business in the dictionary already?\n",
    "            if business_id in business_id_to_counter:\n",
    "                business_id_to_counter[business_id] += 1\n",
    "            else:\n",
    "                # add the business\n",
    "                business_id_to_counter[business_id] = 1\n",
    "\n",
    "print(f\"business_id_to_counter={business_id_to_counter}\")\n",
    "#sort the dictionary by values\n",
    "sorted_biz = sorted(business_id_to_counter.items(), key=lambda kv: kv[1])\n",
    "print(f\"sorted_biz={sorted_biz}\")"
   ]
  },
  {
   "cell_type": "code",
   "execution_count": null,
   "metadata": {},
   "outputs": [],
   "source": [
    "#With the New Bugie Businesses\n",
    "bougie_biz = pd.merge(bougie_businesses, yelp_business_data, on='business_id', how='left')"
   ]
  },
  {
   "cell_type": "code",
   "execution_count": null,
   "metadata": {},
   "outputs": [],
   "source": []
  }
 ],
 "metadata": {
  "kernelspec": {
   "display_name": "Python 3",
   "language": "python",
   "name": "python3"
  },
  "language_info": {
   "codemirror_mode": {
    "name": "ipython",
    "version": 3
   },
   "file_extension": ".py",
   "mimetype": "text/x-python",
   "name": "python",
   "nbconvert_exporter": "python",
   "pygments_lexer": "ipython3",
   "version": "3.6.9"
  }
 },
 "nbformat": 4,
 "nbformat_minor": 2
}
